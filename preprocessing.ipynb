{
 "cells": [
  {
   "cell_type": "code",
   "execution_count": 2,
   "metadata": {},
   "outputs": [],
   "source": [
    "import albumentations as A\n",
    "import cv2\n",
    "import matplotlib.pyplot as plt\n",
    "\n",
    "PATH = \"C:/Users/orlov/Angelina/AI/GAN/Darcy_GAN/ds/\"\n",
    "RES_PATH = \"C:/Users/orlov/Angelina/AI/GAN/Darcy_GAN/ds_resized/\"\n",
    "AUGMENTATION = 5"
   ]
  },
  {
   "cell_type": "code",
   "execution_count": 3,
   "metadata": {},
   "outputs": [],
   "source": [
    "transform = A.Compose([\n",
    "    A.RandomCrop(width=256, height=256),\n",
    "    A.HorizontalFlip(p=0.5),\n",
    "    A.RandomBrightnessContrast(p=0.5),\n",
    "    A.Blur(blur_limit=3),\n",
    "    A.ShiftScaleRotate(p=0.2, rotate_limit=10),\n",
    "])\n",
    "\n",
    "def visualize(image):\n",
    "    plt.figure(figsize=(5, 5))\n",
    "    plt.axis('off')\n",
    "    plt.imshow(image)"
   ]
  },
  {
   "cell_type": "code",
   "execution_count": null,
   "metadata": {},
   "outputs": [],
   "source": [
    "# For historical reasons, OpenCV reads an image in BGR format (Blue, Green, Red). \n",
    "# Albumentations uses RGB format. So when using OpenCV, we need to convert to RGB \n",
    "\n",
    "image = cv2.imread('test.jpg')\n",
    "image = cv2.resize(image, (640, 640))\n",
    "\n",
    "visualize(image)"
   ]
  },
  {
   "cell_type": "code",
   "execution_count": 7,
   "metadata": {},
   "outputs": [],
   "source": [
    "import sys\n",
    "import os\n",
    "\n",
    "photo_list = os.listdir(PATH)\n",
    "os.remove()\n",
    "\n",
    "for img in photo_list:\n",
    "    image = cv2.imread(PATH + str(img))\n",
    "    image = cv2.resize(image, (350, 350))\n",
    "    for i in range(AUGMENTATION):\n",
    "        augmented_image = transform(image=image)['image']\n",
    "        cv2.imwrite(RES_PATH + str(img).split(\".\")[0] + str(i) + \".jpg\", augmented_image)\n",
    " "
   ]
  }
 ],
 "metadata": {
  "kernelspec": {
   "display_name": "Python 3.8.8 ('venv': venv)",
   "language": "python",
   "name": "python3"
  },
  "language_info": {
   "codemirror_mode": {
    "name": "ipython",
    "version": 3
   },
   "file_extension": ".py",
   "mimetype": "text/x-python",
   "name": "python",
   "nbconvert_exporter": "python",
   "pygments_lexer": "ipython3",
   "version": "3.8.8"
  },
  "orig_nbformat": 4,
  "vscode": {
   "interpreter": {
    "hash": "0f5e810395907ed4611a31ad3469f17bc4f90e962d5a21038782023f9c09d325"
   }
  }
 },
 "nbformat": 4,
 "nbformat_minor": 2
}
